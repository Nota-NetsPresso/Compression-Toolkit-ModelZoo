{
  "cells": [
    {
      "attachments": {},
      "cell_type": "markdown",
      "metadata": {
        "id": "hvrVBneCLjLY"
      },
      "source": [
        "# Best Practices - PyTorch Hugging Face ViT on CIFAR100"
      ]
    },
    {
      "attachments": {},
      "cell_type": "markdown",
      "metadata": {
        "id": "OGg_D1yoLjLb"
      },
      "source": [
        "## Optimizing ViT with NetsPresso Model Compressor\n",
        "By following this notebook, the user can get ViT which has 1.89x low latency, 2.28x fewer parameters only with 1.12% top-1 accuracy drop by using NetsPresso Model Compressor.\n",
        "\n",
        "\n",
        "This notebook contains the following 5 parts:\n",
        "  1. [Model Compression with NetsPresso Model Compressor](#1.-Model-Compression-with-NetsPresso-Model-Compressor)\n",
        "  2. [Fine-Tuning the Compressed Model](#2.-Fine-tuning-the-Compressed-Model)\n",
        "  3. [Compression Results](#3.-Compression-Results)\n",
        "  4. [Appendix 1. Transfer Learning on CIFAR100](#Appendix-1.-Transfer-Learning-on-CIFAR100)\n",
        "  5. [Appendix 2. Description of The Modifications](#Appendix-2.-Description-of-The-Modifications)\n",
        "  \n",
        "For more details about NetsPresso Model Compressor, please visit [Docs](https://docs.netspresso.ai/docs/technology-support-1) and [Netspresso.ai](https://www.netspresso.ai).\n"
      ]
    },
    {
      "attachments": {},
      "cell_type": "markdown",
      "metadata": {
        "id": "hQJSPaABLjLb"
      },
      "source": [
        "<div align=\"center\">\n",
        "<img src=\"data:image/png;base64,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\" />\n",
        "</div>\n",
        "<div align='center'>\n",
        "Fig. 1 Compression results of the ViT. The model's latency is measured using a Raspberry Pi 4B (1.5GHz ARM Cortex). We set the model's data type to FP32, and an inference engine to ONNX Runtime to measure the latency.\n",
        "</div>"
      ]
    },
    {
      "cell_type": "markdown",
      "metadata": {
        "id": "k5a2JmNxLjLe"
      },
      "source": [
        "<a name=\"1.-Model-Compression-with-NetsPresso-Model-Compressor\"></a>\n",
        "# 1. Model Compression with NetsPresso Model Compressor"
      ]
    },
    {
      "cell_type": "markdown",
      "metadata": {
        "id": "WW0P32TSLjLf"
      },
      "source": [
        "### Setting up your environment\n"
      ]
    },
    {
      "cell_type": "markdown",
      "metadata": {
        "id": "mRAqsCsnLjLf"
      },
      "source": [
        "Cloning the ViT code ([link](https://github.com/huggingface/transformers))"
      ]
    },
    {
      "cell_type": "code",
      "execution_count": null,
      "metadata": {
        "id": "vy7mVVP7LjLf"
      },
      "outputs": [],
      "source": [
        "! git clone https://github.com/huggingface/transformers.git"
      ]
    },
    {
      "attachments": {},
      "cell_type": "markdown",
      "metadata": {
        "id": "AzRcviDlLjLh"
      },
      "source": [
        "Installing the following packages:"
      ]
    },
    {
      "cell_type": "code",
      "execution_count": null,
      "metadata": {
        "id": "tWXJD6RWLjLh"
      },
      "outputs": [],
      "source": [
        "# You MUST install the compatible torch version with your cuda version. Here, we set PyTorch 1.11.0 with CUDA 11.3 as default. (Support: PyTorch version >= 1.10) \n",
        "! pip install torch==1.11.0+cu113 torchvision==0.12.0+cu113 torchaudio==0.11.0 --extra-index-url https://download.pytorch.org/whl/cu113\n",
        "! pip install torchsummary\n",
        "! pip install tensorboardX\n",
        "! pip install scikit-learn\n",
        "! pip install onnxruntime\n",
        "! pip install datasets\n",
        "! pip install onnx\n",
        "! pip install thop\n",
        "! pip install torchinfo\n",
        "\n",
        "! cd transformers && \\\n",
        "python setup.py develop"
      ]
    },
    {
      "attachments": {},
      "cell_type": "markdown",
      "metadata": {},
      "source": [
        "❗ Please restart the runtime in order to use the installed packages."
      ]
    },
    {
      "cell_type": "markdown",
      "metadata": {
        "id": "dc1H_nyESd82"
      },
      "source": [
        "### Preparing the pretrained model"
      ]
    },
    {
      "attachments": {},
      "cell_type": "markdown",
      "metadata": {
        "id": "0o9PyBgMSrq1"
      },
      "source": [
        "You can get the pretrained ViT (GraphModule format) on CIFAR100 by running the following code block. \n",
        "* Or you can train ViT on CIFAR100 in [Appendix 1](#Appendix-1.-Transfer-Learning-on-CIFAR100)."
      ]
    },
    {
      "cell_type": "code",
      "execution_count": null,
      "metadata": {
        "id": "bixkuBXNSXo8"
      },
      "outputs": [],
      "source": [
        "# Full model\n",
        "! wget https://netspresso-compression-toolkit-public.s3.ap-northeast-2.amazonaws.com/model_zoo/torch/cifar100/pretrained/vit/model.pt\n",
        "# ViT part of the model\n",
        "! wget https://netspresso-compression-toolkit-public.s3.ap-northeast-2.amazonaws.com/model_zoo/torch/cifar100/pretrained/vit/model_vit.pt"
      ]
    },
    {
      "cell_type": "markdown",
      "metadata": {
        "id": "pmBHXnEWLjLi"
      },
      "source": [
        "### **ViT compression using NetsPresso Model Compressor**"
      ]
    },
    {
      "attachments": {},
      "cell_type": "markdown",
      "metadata": {
        "id": "Md_wjS8hLjLi"
      },
      "source": [
        "<a name='compGuide'></a>\n",
        "\n",
        "__Compression Guide__ \n",
        "1. Sign up for NetsPresso Model Compressor ([link](https://compression.netspresso.ai/#/login)).\n",
        "2. Upload the original ViT module `model_vit.pt`. The model format should be `GraphModule` (`torch.fx.GraphModule`).\n",
        "3. To reproduce the best practice result, please select the following compression procedures one by one as depicted [here](#2.-Fine-tuning-the-Compressed-Model): \n",
        "    * `Singular Value Decomposition` &rarr; `Recommendation (VBMF) calibration ratio: 0.2`\n",
        "        \n",
        "4. Press `Compress` button, and get the compressed model. The compression result will be shown as follow."
      ]
    },
    {
      "attachments": {},
      "cell_type": "markdown",
      "metadata": {
        "id": "xRZOlmsRLjLi"
      },
      "source": [
        "<div align='center'>\n",
        "<img src=\"data:image/png;base64,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\"  width='50%' />\n",
        "</div>\n",
        "<div align='center'>\n",
        "Fig 2. The results of each compression. Compression method: Singular Value Decomposition (calibration ratio: 0.2)\n",
        "</div>"
      ]
    },
    {
      "attachments": {},
      "cell_type": "markdown",
      "metadata": {
        "id": "WE6hNlntLjLl"
      },
      "source": [
        "<a name=\"2.-Fine-tuning-the-Compressed-Model\"></a>\n",
        "# 2. Fine-tuning the Compressed Model\n",
        "Singular Value Decomposition (SVD) may induce the performance degradation, which requires additional fine-tuning process.  \n",
        "Therefore, the fine-tuning process is necessary to compensate the performance after each compression process.  \n",
        "Here, `Singular Value Decomposition` &rarr; `Fine-tuning`"
      ]
    },
    {
      "cell_type": "markdown",
      "metadata": {
        "id": "aMM7PgSPTkEI"
      },
      "source": [
        "<a name=\"Preparing-CIFAR100-dataset\"></a>\n",
        "### Preparing CIFAR100 dataset"
      ]
    },
    {
      "cell_type": "code",
      "execution_count": null,
      "metadata": {
        "id": "UAWQf1AvTptO"
      },
      "outputs": [],
      "source": [
        "import torch\n",
        "from datasets import load_dataset, load_metric\n",
        "from transformers import ViTFeatureExtractor\n",
        "\n",
        "from torchvision.transforms import (CenterCrop, \n",
        "                                    Compose, \n",
        "                                    Normalize, \n",
        "                                    RandomHorizontalFlip,\n",
        "                                    RandomResizedCrop, \n",
        "                                    Resize,\n",
        "                                    ToTensor,\n",
        "                                    RandAugment)\n",
        "\n",
        "# load dataset\n",
        "dataset = load_dataset('cifar100')\n",
        "image = dataset[\"train\"][\"img\"]\n",
        "\n",
        "train_ds = dataset[\"train\"]\n",
        "test_ds = dataset[\"test\"]\n",
        "\n",
        "\n",
        "# load feature extractor\n",
        "feature_extractor = ViTFeatureExtractor.from_pretrained(\"google/vit-base-patch16-224-in21k\")\n",
        "\n",
        "\n",
        "def transform(example_batch):\n",
        "    def toRGB(image):\n",
        "        if image.mode != 'RGB':\n",
        "            return image.convert(\"RGB\")\n",
        "        return image\n",
        "    # Take a list of PIL images and turn them to pixel values\n",
        "    inputs = feature_extractor([toRGB(x) for x in example_batch['img']], return_tensors='pt')\n",
        "\n",
        "    # Don't forget to include the labels!\n",
        "    inputs['label'] = example_batch['coarse_label']\n",
        "    return inputs\n",
        "\n",
        "prepared_ds = dataset.with_transform(transform)\n",
        "\n",
        "labels = dataset['train'].features['coarse_label'].names\n",
        "\n",
        "normalize = Normalize(mean=feature_extractor.image_mean, std=feature_extractor.image_std)\n",
        "\n",
        "_train_transforms = Compose(\n",
        "        [\n",
        "            Resize([feature_extractor.size[\"width\"], feature_extractor.size[\"height\"]]),\n",
        "            RandomHorizontalFlip(),\n",
        "            RandAugment(),\n",
        "            ToTensor(),\n",
        "            normalize,\n",
        "        ]\n",
        "    )\n",
        "\n",
        "_val_transforms = Compose(\n",
        "        [\n",
        "            Resize([feature_extractor.size[\"width\"], feature_extractor.size[\"height\"]]),\n",
        "            ToTensor(),\n",
        "            normalize,\n",
        "        ]\n",
        "    )\n",
        "\n",
        "def train_transforms(examples):\n",
        "    examples['pixel_values'] = [_train_transforms(image.convert(\"RGB\")) for image in examples['img']]\n",
        "    examples['label'] = examples['coarse_label']\n",
        "    return examples\n",
        "\n",
        "def val_transforms(examples):\n",
        "    examples['pixel_values'] = [_val_transforms(image.convert(\"RGB\")) for image in examples['img']]\n",
        "    examples['label'] = examples['coarse_label']\n",
        "    return examples\n",
        "\n",
        "# Set transforms\n",
        "train_ds.set_transform(train_transforms)\n",
        "test_ds.set_transform(val_transforms)"
      ]
    },
    {
      "cell_type": "markdown",
      "metadata": {
        "id": "iW0vq93DJjQC"
      },
      "source": [
        "### Fine-tuning the compressed model"
      ]
    },
    {
      "attachments": {},
      "cell_type": "markdown",
      "metadata": {},
      "source": [
        "To fine-tune the compressed model on CIFAR100, we need to define the modeling for the dataset.  \n",
        "You can get the modeling code `modeling_vit_model_compressor.py` by running the following code block. You can see descriptions of the modifications from `modeling_vit.py` to `modeling_vit_model_compressor.py` in [Appendix 2](#appendix-2-description-of-the-modifications)."
      ]
    },
    {
      "cell_type": "code",
      "execution_count": null,
      "metadata": {},
      "outputs": [],
      "source": [
        "! cd transformers/src/transformers/models/vit && \\\n",
        "wget https://raw.githubusercontent.com/Nota-NetsPresso/NetsPresso-Model-Compressor-ModelZoo/vit/best_practices/classification/torch/vit/modeling_vit_model_compressor.py"
      ]
    },
    {
      "attachments": {},
      "cell_type": "markdown",
      "metadata": {
        "id": "ZdbfoK_SJoZC"
      },
      "source": [
        "In this notebook, we fine-tune ([link](#2.-Fine-tuning-the-Compressed-Model)) and verify ([link](#3.-Compression-Results)) the model for the best practice case of Fig. 1 by default.  \n",
        "* `model_vit_compressed_model_SVD_02.pt` means the model compressed by `Singular Value Decomposition (calibration ratio: 0.2)`."
      ]
    },
    {
      "cell_type": "code",
      "execution_count": null,
      "metadata": {
        "id": "YVqq8dRyLjLl"
      },
      "outputs": [],
      "source": [
        "import torch\n",
        "import numpy as np\n",
        "from transformers import TrainingArguments, Trainer, ViTFeatureExtractor\n",
        "from datasets import load_dataset, load_metric\n",
        "\n",
        "# Load compressed model\n",
        "model = torch.load('model.pt')\n",
        "_vit_model = torch.load('model_vit_compressed_model_SVD_02.pt')\n",
        "model.vit = _vit_model\n",
        "\n",
        "# training arguments\n",
        "training_args = TrainingArguments(\n",
        "  output_dir=f\"./results\",\n",
        "  per_device_train_batch_size=32,\n",
        "  per_device_eval_batch_size=16,\n",
        "  evaluation_strategy=\"steps\",\n",
        "  num_train_epochs=20,\n",
        "  fp16=False,\n",
        "  save_steps=392,\n",
        "  eval_steps=392,\n",
        "  logging_steps=10,\n",
        "  learning_rate=2e-4,\n",
        "  save_total_limit=2,\n",
        "  remove_unused_columns=False,\n",
        "  push_to_hub=False,\n",
        "  report_to='tensorboard',\n",
        "  load_best_model_at_end=True,\n",
        "  eval_accumulation_steps=30,\n",
        ")\n",
        "\n",
        "feature_extractor = ViTFeatureExtractor.from_pretrained(\"google/vit-base-patch16-224-in21k\")\n",
        "def collate_fn(batch):\n",
        "    return {\n",
        "        'pixel_values': torch.stack([x['pixel_values'] for x in batch]),\n",
        "        'labels': torch.tensor([x['label'] for x in batch])\n",
        "    }\n",
        "\n",
        "metric = load_metric(\"accuracy\")\n",
        "def compute_metrics(p):\n",
        "    return metric.compute(predictions=np.argmax(p.predictions[0], axis=1), references=p.label_ids)\n",
        "\n",
        "\n",
        "compressed_trainer = Trainer(\n",
        "    model=model,\n",
        "    args=training_args,\n",
        "    data_collator=collate_fn,\n",
        "    compute_metrics=compute_metrics,\n",
        "    train_dataset=train_ds,\n",
        "    eval_dataset=test_ds,\n",
        "    tokenizer=feature_extractor,\n",
        ")\n",
        "\n",
        "# predict before training\n",
        "predictions = compressed_trainer.predict(prepared_ds['test'])\n",
        "preds = np.argmax(predictions.predictions[0], axis=-1)\n",
        "result = metric.compute(predictions=preds, references=predictions.label_ids)\n",
        "print(result)\n",
        "\n",
        "# training\n",
        "train_results = compressed_trainer.train()\n",
        "compressed_trainer.save_model()\n",
        "compressed_trainer.log_metrics(\"train\", train_results.metrics)\n",
        "compressed_trainer.save_metrics(\"train\", train_results.metrics)\n",
        "compressed_trainer.save_state()\n",
        "\n",
        "# predict after training\n",
        "predictions = compressed_trainer.predict(prepared_ds['test'])\n",
        "preds = np.argmax(predictions.predictions[0], axis=-1)\n",
        "result = metric.compute(predictions=preds, references=predictions.label_ids)\n",
        "print(result)\n",
        "\n",
        "# save compressed model\n",
        "torch.save(compressed_trainer.model, \"model_finetuned.pt\")\n",
        "torch.save(compressed_trainer.model.vit, \"model_vit_compressed_model_SVD_02_finetuned.pt\")"
      ]
    },
    {
      "cell_type": "markdown",
      "metadata": {
        "id": "Ze0F7Xx3LjLl"
      },
      "source": [
        "<a name=\"3.-Compression-Results\"></a>\n",
        "# 3. Compression Results"
      ]
    },
    {
      "attachments": {},
      "cell_type": "markdown",
      "metadata": {
        "id": "3b5446vhLjLm"
      },
      "source": [
        "In this section, we visualize and verify the effectiveness of the NetsPresso Model Compressor on ViT.\n",
        "\n",
        "* [Visualizing the optimization process on ViT](#Visualizing-the-optimization-process-on-ViT)\n",
        "* [Accuracy comparision](#Accuracy-comparision)\n",
        "* [FLOPs & parameters comparision](#FLOPs-&-Parameters-comparision)\n",
        "* [Latency comparision](#Latency-comparision)\n",
        "* [Architecture of the compressed model](#Architecture-of-the-compressed-model)"
      ]
    },
    {
      "cell_type": "markdown",
      "metadata": {
        "id": "G1f8tqdwe34N"
      },
      "source": [
        "Loading original & compressed models"
      ]
    },
    {
      "cell_type": "code",
      "execution_count": null,
      "metadata": {
        "id": "Nisy9_5NfEam"
      },
      "outputs": [],
      "source": [
        "import torch\n",
        "device = 'cuda' if torch.cuda.is_available() else 'cpu'\n",
        "\n",
        "original_model = torch.load('model.pt',map_location = device)\n",
        "_original_vit_model = torch.load('/root/workspace/0_Best_practice/vit/model_vit.pt',map_location = device)\n",
        "original_model.vit = _original_vit_model\n",
        "\n",
        "compressed_model = torch.load(\"model_finetuned.pt\",map_location = device)\n",
        "_compressed_model_vit_model = torch.load(\"model_vit_compressed_model_SVD_02_finetuned.pt\",map_location = device)\n",
        "compressed_model.vit = _compressed_model_vit_model"
      ]
    },
    {
      "attachments": {},
      "cell_type": "markdown",
      "metadata": {
        "id": "F_1Hxl3iLjLm"
      },
      "source": [
        "<a name='Visualizing-the-optimization-process-on-ViT'></a>\n",
        "\n",
        "<!-- ### Visualization of How NetsPresso Model Compressor Optimizes MobileNetV1 -->\n",
        "### Visualizing the optimization process on ViT\n",
        "\n",
        "Fig.3 visualizes part of the original and decomposed ViT.\n",
        "Here, we applied [Singular Value Decomposition](https://docs.netspresso.ai/docs/mc-filter-decomposition#what-is-filter-decomposition) to optimize the model.\n",
        "<div align=\"center\">\n",
        "\n",
        "<img src=\"data:image/png;base64,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\" />\n",
        "</div>\n",
        "<div align='center'>Fig. 3 The optimization process for a single convolutional neural network in ViT with NetsPresso Model Compressor</div>"
      ]
    },
    {
      "cell_type": "markdown",
      "metadata": {
        "id": "G-G_I0xcLjLo"
      },
      "source": [
        "<a name=\"Accuracy-comparision\"></a>\n",
        "### Accuracy comparision"
      ]
    },
    {
      "cell_type": "markdown",
      "metadata": {
        "id": "r-FovfI-LjLo"
      },
      "source": [
        "Evaluation code for the original model"
      ]
    },
    {
      "cell_type": "code",
      "execution_count": null,
      "metadata": {
        "id": "0PVRPCHHLjLo"
      },
      "outputs": [],
      "source": [
        "from transformers import TrainingArguments, Trainer\n",
        "import numpy as np\n",
        "\n",
        "training_args = TrainingArguments(\n",
        "  output_dir=f\"./results\",\n",
        "  per_device_train_batch_size=32,\n",
        "  per_device_eval_batch_size=16,\n",
        "  evaluation_strategy=\"steps\",\n",
        "  num_train_epochs=0,\n",
        "  fp16=False,\n",
        "  save_steps=392,\n",
        "  eval_steps=392,\n",
        "  logging_steps=10,\n",
        "  learning_rate=2e-4,\n",
        "  save_total_limit=2,\n",
        "  remove_unused_columns=False,\n",
        "  push_to_hub=False,\n",
        "  report_to='tensorboard',\n",
        "  load_best_model_at_end=True,\n",
        "  eval_accumulation_steps=30,\n",
        ")\n",
        "\n",
        "feature_extractor = ViTFeatureExtractor.from_pretrained(\"google/vit-base-patch16-224-in21k\")\n",
        "def collate_fn(batch):\n",
        "    return {\n",
        "        'pixel_values': torch.stack([x['pixel_values'] for x in batch]),\n",
        "        'labels': torch.tensor([x['label'] for x in batch])\n",
        "    }\n",
        "\n",
        "metric = load_metric(\"accuracy\")\n",
        "def compute_metrics(p):\n",
        "    return metric.compute(predictions=np.argmax(p.predictions[0], axis=1), references=p.label_ids)\n",
        "\n",
        "\n",
        "trainer = Trainer(\n",
        "    model=original_model,\n",
        "    args=training_args,\n",
        "    data_collator=collate_fn,\n",
        "    compute_metrics=compute_metrics,\n",
        "    train_dataset=train_ds,\n",
        "    eval_dataset=test_ds,\n",
        "    tokenizer=feature_extractor,\n",
        ")\n",
        "\n",
        "# predict \n",
        "predictions = trainer.predict(prepared_ds['test'])\n",
        "preds = np.argmax(predictions.predictions[0], axis=-1)\n",
        "result = metric.compute(predictions=preds, references=predictions.label_ids)\n",
        "print(result)"
      ]
    },
    {
      "cell_type": "markdown",
      "metadata": {
        "id": "44jEEpiULjLo"
      },
      "source": [
        "Evaluation code for the compressed model"
      ]
    },
    {
      "cell_type": "code",
      "execution_count": null,
      "metadata": {
        "id": "uVLHebhVLjLo"
      },
      "outputs": [],
      "source": [
        "from transformers import TrainingArguments, Trainer\n",
        "import numpy as np\n",
        "\n",
        "training_args = TrainingArguments(\n",
        "  output_dir=f\"./results\",\n",
        "  per_device_train_batch_size=32,\n",
        "  per_device_eval_batch_size=16,\n",
        "  evaluation_strategy=\"steps\",\n",
        "  num_train_epochs=0,\n",
        "  fp16=False,\n",
        "  save_steps=392,\n",
        "  eval_steps=392,\n",
        "  logging_steps=10,\n",
        "  learning_rate=2e-4,\n",
        "  save_total_limit=2,\n",
        "  remove_unused_columns=False,\n",
        "  push_to_hub=False,\n",
        "  report_to='tensorboard',\n",
        "  load_best_model_at_end=True,\n",
        "  eval_accumulation_steps=30,\n",
        ")\n",
        "\n",
        "feature_extractor = ViTFeatureExtractor.from_pretrained(\"google/vit-base-patch16-224-in21k\")\n",
        "def collate_fn(batch):\n",
        "    return {\n",
        "        'pixel_values': torch.stack([x['pixel_values'] for x in batch]),\n",
        "        'labels': torch.tensor([x['label'] for x in batch])\n",
        "    }\n",
        "\n",
        "metric = load_metric(\"accuracy\")\n",
        "def compute_metrics(p):\n",
        "    return metric.compute(predictions=np.argmax(p.predictions[0], axis=1), references=p.label_ids)\n",
        "\n",
        "\n",
        "trainer = Trainer(\n",
        "    model=compressed_model,\n",
        "    args=training_args,\n",
        "    data_collator=collate_fn,\n",
        "    compute_metrics=compute_metrics,\n",
        "    train_dataset=train_ds,\n",
        "    eval_dataset=test_ds,\n",
        "    tokenizer=feature_extractor,\n",
        ")\n",
        "\n",
        "# predict\n",
        "predictions = trainer.predict(prepared_ds['test'])\n",
        "preds = np.argmax(predictions.predictions[0], axis=-1)\n",
        "result = metric.compute(predictions=preds, references=predictions.label_ids)\n",
        "print(result)"
      ]
    },
    {
      "cell_type": "markdown",
      "metadata": {
        "id": "mpFLkT5sLjLp"
      },
      "source": [
        "<a name=\"FLOPs-&-Parameters-comparision\"></a>\n",
        "### FLOPs & Parameters comparision"
      ]
    },
    {
      "cell_type": "code",
      "execution_count": null,
      "metadata": {
        "id": "CO4W2YsyLjLp"
      },
      "outputs": [],
      "source": [
        "from thop import profile\n",
        "from torchinfo import summary\n",
        "\n",
        "device = 'cuda' if torch.cuda.is_available() else 'cpu'\n",
        "\n",
        "input_size = 224\n",
        "\n",
        "dummy_input = torch.ones((1,3,input_size,input_size)).to(device)\n",
        "\n",
        "original_macs, _ = profile(original_model.vit.eval(), inputs=(dummy_input, ))\n",
        "compressed_macs, _ = profile(compressed_model.vit.eval(), inputs=(dummy_input, ))\n",
        "\n",
        "original_params = summary(original_model.vit.eval(), (1,3,input_size, input_size)).trainable_params\n",
        "compressed_params = summary(compressed_model.vit.eval(), (1,3,input_size, input_size)).trainable_params\n",
        "\n",
        "print(\"\\n--- Original model ==> Compressed model ---\")\n",
        "print(f\"FLOPs: {original_macs*2} ==> {compressed_macs*2} (x{round(original_macs/compressed_macs,3)})\")\n",
        "print(f\"Params: {original_params} ==> {compressed_params} (x{round(original_params/compressed_params,3)})\")"
      ]
    },
    {
      "cell_type": "markdown",
      "metadata": {
        "id": "5bgCJ0KjLjLp"
      },
      "source": [
        "<a name=\"Latency-comparision\"></a>\n",
        "### Latency comparision"
      ]
    },
    {
      "cell_type": "code",
      "execution_count": null,
      "metadata": {
        "id": "84boDxcpLjLp"
      },
      "outputs": [],
      "source": [
        "import onnx\n",
        "def onnxExport(model, model_name, device = torch.device('cpu')):\n",
        "    model = model.to(device.type)\n",
        "    dummy_input = torch.ones((1,3,224,224)).to(device.type)\n",
        "    torch.onnx.export(model,dummy_input,model_name,verbose=False)\n",
        "\n",
        "onnxExport(original_model, 'model.onnx')\n",
        "onnxExport(compressed_model, 'model_compressed_model_SVD_02.onnx')"
      ]
    },
    {
      "cell_type": "code",
      "execution_count": null,
      "metadata": {
        "id": "a7oZYi3-LjLp"
      },
      "outputs": [],
      "source": [
        "import onnxruntime\n",
        "import numpy as np\n",
        "\n",
        "def inference_time(model_path,run_times):\n",
        "    device = torch.device('cpu')\n",
        "    img_size = 224\n",
        "    so = onnxruntime.SessionOptions()\n",
        "    so.execution_mode = onnxruntime.ExecutionMode.ORT_SEQUENTIAL\n",
        "    so.graph_optimization_level = onnxruntime.GraphOptimizationLevel.ORT_ENABLE_EXTENDED\n",
        "    exproviders = [ 'CPUExecutionProvider']\n",
        "    ort_session = onnxruntime.InferenceSession(model_path, so, providers=exproviders)\n",
        "\n",
        "    input_names = ort_session.get_inputs()[0].name\n",
        "    output_names = ort_session.get_outputs()[0].name\n",
        "    # warm up\n",
        "    dummy_input = np.random.rand(1,3,img_size,img_size).astype(np.float32)\n",
        "    for _ in range(10):\n",
        "        #IOBinding\n",
        "        data = onnxruntime.OrtValue.ortvalue_from_numpy(dummy_input, device.type, 0)\n",
        "        io_binding = ort_session.io_binding()\n",
        "        io_binding.bind_input(input_names, device.type, 0, np.float32, [1, 3, img_size, img_size], data.data_ptr())\n",
        "        io_binding.bind_output(output_names, device.type)\n",
        "\n",
        "        torch.cuda.synchronize()\n",
        "        with torch.no_grad():\n",
        "            ort_session.run_with_iobinding(io_binding)\n",
        "        torch.cuda.synchronize()\n",
        "\n",
        "    start = torch.cuda.Event(enable_timing=True)\n",
        "    end = torch.cuda.Event(enable_timing=True)\n",
        "\n",
        "    latency = []\n",
        "    for _ in range(run_times):\n",
        "        dummy_input = np.random.rand(1,3,img_size,img_size).astype(np.float32)\n",
        "        #IOBinding\n",
        "        data = onnxruntime.OrtValue.ortvalue_from_numpy(dummy_input, device.type, 0)\n",
        "        io_binding.bind_input(input_names, device.type, 0, np.float32, [1, 3, img_size, img_size], data.data_ptr())\n",
        "        io_binding.bind_output(output_names, device.type)\n",
        "\n",
        "        torch.cuda.synchronize()\n",
        "        start.record() \n",
        "        with torch.no_grad():\n",
        "            ort_session.run_with_iobinding(io_binding)\n",
        "        end.record()\n",
        "        torch.cuda.synchronize()\n",
        "        time_elapsed = start.elapsed_time(end)\n",
        "        latency.append(time_elapsed)\n",
        "    return sum(latency)/len(latency)\n",
        "\n",
        "\n",
        "original_latency = inference_time('model.onnx',run_times=10)\n",
        "compressed_latency = inference_time('model_compressed_model_SVD_02.onnx',run_times=10)\n",
        "\n",
        "print(\"Original Model ==> Compressed Model\")\n",
        "print(f\"Latency: {round(original_latency,3)}ms ==> {round(compressed_latency,3)}ms (x{round(original_latency/compressed_latency,3)})\")"
      ]
    },
    {
      "attachments": {},
      "cell_type": "markdown",
      "metadata": {},
      "source": [
        "<a name=\"Architecture-of-the-compressed-model\"></a>\n",
        "\n",
        "### Architecture of the compressed model"
      ]
    },
    {
      "cell_type": "code",
      "execution_count": null,
      "metadata": {
        "id": "QdKuWr4xLjLq"
      },
      "outputs": [],
      "source": [
        "from torchsummary import summary\n",
        "\n",
        "device = 'cuda' if torch.cuda.is_available() else 'cpu'\n",
        "\n",
        "_compressed_model_vit_model = torch.load('model_vit_compressed_model_SVD_02_finetuned.pt').to(device)\n",
        "\n",
        "summary(_compressed_model_vit_model.to(device),(3,224,224),device=device)"
      ]
    },
    {
      "attachments": {},
      "cell_type": "markdown",
      "metadata": {
        "id": "H7LQ_lCDLjLq"
      },
      "source": [
        "<a name='Appendix-1.-Transfer-Learning-on-CIFAR100'></a>\n",
        "# Appendix 1. Transfer Learning on CIFAR100\n",
        "In this section, we provide the details of how to get pretrained ViT on CIFAR100."
      ]
    },
    {
      "cell_type": "markdown",
      "metadata": {
        "id": "6o_TrTOMLjLq"
      },
      "source": [
        "### Transfer Learning"
      ]
    },
    {
      "attachments": {},
      "cell_type": "markdown",
      "metadata": {
        "id": "ItcxvVs-LXDj"
      },
      "source": [
        "To do transfer learning the ImageNet pretrained ViT on CIFAR100, we need to define the modeling for CIFAR100.  \n",
        "You can get the modeling code `modeling_vit_model_compressor.py` by running the following code block. You can see descriptions of the modifications from `modeling_vit.py` to `modeling_vit_model_compressor.py` in [Appendix 2](#appendix-2-description-of-the-modifications)."
      ]
    },
    {
      "cell_type": "code",
      "execution_count": null,
      "metadata": {
        "id": "abSgdxyad9J5"
      },
      "outputs": [],
      "source": [
        "! cd transformers/src/transformers/models/vit && \\\n",
        "wget https://raw.githubusercontent.com/Nota-NetsPresso/NetsPresso-Model-Compressor-ModelZoo/vit/best_practices/classification/torch/vit/modeling_vit_model_compressor.py"
      ]
    },
    {
      "cell_type": "markdown",
      "metadata": {
        "id": "3qO36OkOeu9V"
      },
      "source": [
        "Praparing the dataset\n",
        "\n",
        "- Plase run this [code block](#Preparing-CIFAR100-dataset) to prepare the dataset."
      ]
    },
    {
      "attachments": {},
      "cell_type": "markdown",
      "metadata": {
        "id": "tO4a4kKCMl90"
      },
      "source": [
        "Loading the pretrained ViT on ImageNet"
      ]
    },
    {
      "cell_type": "code",
      "execution_count": null,
      "metadata": {},
      "outputs": [],
      "source": [
        "from transformers.models.vit.modeling_vit_model_compressor import ViTForImageClassificationModelCompressor\n",
        "\n",
        "model = ViTForImageClassificationModelCompressor.from_pretrained(\n",
        "    \"google/vit-base-patch16-224-in21k\",\n",
        "    num_labels=len(labels),\n",
        "    id2label={str(i): c for i, c in enumerate(labels)},\n",
        "    label2id={c: str(i) for i, c in enumerate(labels)},\n",
        "    ignore_mismatched_sizes=True\n",
        ")"
      ]
    },
    {
      "attachments": {},
      "cell_type": "markdown",
      "metadata": {},
      "source": [
        "Transfer Learning the ViT on CIFAR100"
      ]
    },
    {
      "cell_type": "code",
      "execution_count": null,
      "metadata": {
        "id": "RN1TLnGnLjLq"
      },
      "outputs": [],
      "source": [
        "import torch\n",
        "import time\n",
        "import numpy as np\n",
        "from torch import nn\n",
        "from transformers import Trainer, TrainingArguments\n",
        "\n",
        "training_args = TrainingArguments(\n",
        "  output_dir=f\"./results\",\n",
        "  per_device_train_batch_size=32,\n",
        "  per_device_eval_batch_size=16,\n",
        "  evaluation_strategy=\"steps\",\n",
        "  num_train_epochs=30,\n",
        "  fp16=False,\n",
        "  save_steps=392,\n",
        "  eval_steps=392,\n",
        "  logging_steps=10,\n",
        "  learning_rate=2e-4,\n",
        "  save_total_limit=2,\n",
        "  remove_unused_columns=False,\n",
        "  push_to_hub=False,\n",
        "  report_to='tensorboard',\n",
        "  load_best_model_at_end=True,\n",
        "  eval_accumulation_steps=30,\n",
        ")\n",
        "\n",
        "trainer = Trainer(\n",
        "    model=model,\n",
        "    args=training_args,\n",
        "    data_collator=collate_fn,\n",
        "    compute_metrics=compute_metrics,\n",
        "    train_dataset=train_ds,\n",
        "    eval_dataset=test_ds,\n",
        "    tokenizer=feature_extractor,\n",
        ")\n",
        "\n",
        "# predict before training\n",
        "predictions = trainer.predict(prepared_ds['test'])\n",
        "preds = np.argmax(predictions.predictions[0], axis=-1)\n",
        "result = metric.compute(predictions=preds, references=predictions.label_ids)\n",
        "print(result)\n",
        "\n",
        "# # training\n",
        "train_results = trainer.train()\n",
        "trainer.save_model()\n",
        "trainer.log_metrics(\"train\", train_results.metrics)\n",
        "trainer.save_metrics(\"train\", train_results.metrics)\n",
        "trainer.save_state()\n",
        "\n",
        "# # predict after training\n",
        "predictions = trainer.predict(prepared_ds['test'])\n",
        "preds = np.argmax(predictions.predictions[0], axis=-1)\n",
        "result = metric.compute(predictions=preds, references=predictions.label_ids)\n",
        "print(result)\n",
        "\n",
        "torch.save(trainer.model.vit, \"model_vit.pt\")\n",
        "torch.save(trainer.model, \"model.pt\")"
      ]
    },
    {
      "cell_type": "markdown",
      "metadata": {
        "id": "Tuo3XYrzjCop"
      },
      "source": [
        "<a name=\"Conversion-into-GraphModule-Format\"></a>\n",
        "### Conversion into GraphModule format"
      ]
    },
    {
      "cell_type": "code",
      "execution_count": null,
      "metadata": {
        "id": "T8zFWh32LjLr"
      },
      "outputs": [],
      "source": [
        "import torch\n",
        "from transformers.utils.fx import symbolic_trace\n",
        "\n",
        "traced = torch.load('model_vit.pt')\n",
        "graph = torch.fx.Tracer().trace(traced)\n",
        "\n",
        "traced_model = torch.fx.GraphModule(traced, graph)\n",
        "torch.save(traced_model,\"model_vit.pt\")"
      ]
    },
    {
      "attachments": {},
      "cell_type": "markdown",
      "metadata": {
        "id": "THUo7l5fLjLr"
      },
      "source": [
        "<a name=\"#appendix-2-description-of-the-modifications\"></a>\n",
        "# Appendix 2. Description of The Modifications\n",
        "In this section, we go into detail about the code we've changed for transfer learning."
      ]
    },
    {
      "attachments": {},
      "cell_type": "markdown",
      "metadata": {},
      "source": [
        "* `modeling_vit_model_compressor.py`\n",
        "    * To convert ViT into GraphModule format, we need to check the input value by using `torch._assert`, not `if statement` ([link 1](https://github.com/Nota-NetsPresso/NetsPresso-Model-Compressor-ModelZoo/commit/9da4098151a190b91824ffe4ea8ba0e19053ea74#diff-b280caff67c6b17613012f9ffc6d92dcddc8ed5275fe6ebfab84bc9b1041345dL176)) , ([link 2](https://github.com/Nota-NetsPresso/NetsPresso-Model-Compressor-ModelZoo/commit/9da4098151a190b91824ffe4ea8ba0e19053ea74#diff-b280caff67c6b17613012f9ffc6d92dcddc8ed5275fe6ebfab84bc9b1041345dR180)) , ([link 3](https://github.com/Nota-NetsPresso/NetsPresso-Model-Compressor-ModelZoo/commit/9da4098151a190b91824ffe4ea8ba0e19053ea74#diff-b280caff67c6b17613012f9ffc6d92dcddc8ed5275fe6ebfab84bc9b1041345dR185)).\n",
        "\n",
        "    * As ViT is converted into Graphmodule format, the type of ViT's output changes from `list` to `dict`. Therefore, we change the input parameters for the `vit` module ([link](https://github.com/Nota-NetsPresso/NetsPresso-Model-Compressor-ModelZoo/commit/9da4098151a190b91824ffe4ea8ba0e19053ea74#diff-b280caff67c6b17613012f9ffc6d92dcddc8ed5275fe6ebfab84bc9b1041345dR794)),  and the parameters of `ImageClassifierOutput` ([link](https://github.com/Nota-NetsPresso/NetsPresso-Model-Compressor-ModelZoo/commit/9da4098151a190b91824ffe4ea8ba0e19053ea74#diff-b280caff67c6b17613012f9ffc6d92dcddc8ed5275fe6ebfab84bc9b1041345dR833))."
      ]
    }
  ],
  "metadata": {
    "colab": {
      "collapsed_sections": [
        "WW0P32TSLjLf",
        "dc1H_nyESd82"
      ],
      "provenance": []
    },
    "kernelspec": {
      "display_name": "base",
      "language": "python",
      "name": "python3"
    },
    "language_info": {
      "codemirror_mode": {
        "name": "ipython",
        "version": 3
      },
      "file_extension": ".py",
      "mimetype": "text/x-python",
      "name": "python",
      "nbconvert_exporter": "python",
      "pygments_lexer": "ipython3",
      "version": "3.9.12 (main, Apr  4 2022, 05:22:27) [MSC v.1916 64 bit (AMD64)]"
    },
    "orig_nbformat": 4,
    "vscode": {
      "interpreter": {
        "hash": "a59abc85dbecbfd0413b557241e3f1667885360accba9a119d56be2adb119354"
      }
    }
  },
  "nbformat": 4,
  "nbformat_minor": 0
}
